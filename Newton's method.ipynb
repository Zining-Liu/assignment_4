{
 "cells": [
  {
   "cell_type": "code",
   "execution_count": 1,
   "metadata": {},
   "outputs": [],
   "source": [
    "using LinearAlgebra, Statistics, Plots"
   ]
  },
  {
   "cell_type": "code",
   "execution_count": 2,
   "metadata": {},
   "outputs": [
    {
     "data": {
      "text/plain": [
       "findroot (generic function with 1 method)"
      ]
     },
     "execution_count": 2,
     "metadata": {},
     "output_type": "execute_result"
    }
   ],
   "source": [
    "function findroot(f, f_prime; x_0=0.5, tolerance=1E-7, maxiter=1000)\n",
    "    normdiff=Inf\n",
    "    iter=1\n",
    "    x_old=x_0\n",
    "    \n",
    "    while normdiff > tolerance && iter <= maxiter\n",
    "        x_new=x_old-f(x_old)/f_prime(x_old)\n",
    "        normdiff = norm(x_new - x_old)\n",
    "        x_old=x_new\n",
    "        iter+=1\n",
    "    end\n",
    "    return (value = x_old, normdiff=normdiff, iter=iter)\n",
    "end"
   ]
  },
  {
   "cell_type": "code",
   "execution_count": 3,
   "metadata": {},
   "outputs": [
    {
     "name": "stdout",
     "output_type": "stream",
     "text": [
      "Root = 0.999999847386336, and |x_n+1 - x_n| = 7.63068319642457e-8 in 38 iterations\n"
     ]
    }
   ],
   "source": [
    "f(x)=(x-1)^3\n",
    "f_prime(x)=3*(x-1)^2\n",
    "\n",
    "root=findroot(f, f_prime)\n",
    "println(\"Root = $(root.value), and |x_n+1 - x_n| = $(root.normdiff) in $(root.iter) iterations\")"
   ]
  },
  {
   "cell_type": "code",
   "execution_count": null,
   "metadata": {},
   "outputs": [],
   "source": []
  }
 ],
 "metadata": {
  "kernelspec": {
   "display_name": "Julia 1.5.1",
   "language": "julia",
   "name": "julia-1.5"
  },
  "language_info": {
   "file_extension": ".jl",
   "mimetype": "application/julia",
   "name": "julia",
   "version": "1.5.1"
  }
 },
 "nbformat": 4,
 "nbformat_minor": 2
}
